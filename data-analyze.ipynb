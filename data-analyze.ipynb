{
 "cells": [
  {
   "cell_type": "code",
   "execution_count": 5,
   "metadata": {},
   "outputs": [],
   "source": [
    "import pandas as pd"
   ]
  },
  {
   "cell_type": "code",
   "execution_count": 8,
   "metadata": {},
   "outputs": [],
   "source": [
    "jobs = pd.read_csv(\"jobs.csv\")"
   ]
  },
  {
   "cell_type": "code",
   "execution_count": null,
   "metadata": {},
   "outputs": [],
   "source": [
    "filloc = 'jakarta'"
   ]
  },
  {
   "cell_type": "code",
   "execution_count": 21,
   "metadata": {},
   "outputs": [],
   "source": [
    "filtered_jobs = jobs[jobs[\"Location\"].str.contains(filloc, case=False)]"
   ]
  },
  {
   "cell_type": "code",
   "execution_count": 22,
   "metadata": {},
   "outputs": [
    {
     "data": {
      "text/html": [
       "<div>\n",
       "<style scoped>\n",
       "    .dataframe tbody tr th:only-of-type {\n",
       "        vertical-align: middle;\n",
       "    }\n",
       "\n",
       "    .dataframe tbody tr th {\n",
       "        vertical-align: top;\n",
       "    }\n",
       "\n",
       "    .dataframe thead th {\n",
       "        text-align: right;\n",
       "    }\n",
       "</style>\n",
       "<table border=\"1\" class=\"dataframe\">\n",
       "  <thead>\n",
       "    <tr style=\"text-align: right;\">\n",
       "      <th></th>\n",
       "      <th>Job Title</th>\n",
       "      <th>Company</th>\n",
       "      <th>Location</th>\n",
       "    </tr>\n",
       "  </thead>\n",
       "  <tbody>\n",
       "    <tr>\n",
       "      <th>8</th>\n",
       "      <td>Marketing Staff</td>\n",
       "      <td>PT VPlus Platinum 8 Indonesia</td>\n",
       "      <td>Setiabudi, Jakarta Selatan, DKI Jakarta, Indon...</td>\n",
       "    </tr>\n",
       "    <tr>\n",
       "      <th>9</th>\n",
       "      <td>Marketing Staff</td>\n",
       "      <td>PT VPlus Platinum 8 Indonesia</td>\n",
       "      <td>Setiabudi, Jakarta Selatan, DKI Jakarta, Indon...</td>\n",
       "    </tr>\n",
       "    <tr>\n",
       "      <th>11</th>\n",
       "      <td>Finance Accounting</td>\n",
       "      <td>Pt Qinfa Mining Industri</td>\n",
       "      <td>Kemayoran, Jakarta Pusat, DKI Jakarta, Indonesia</td>\n",
       "    </tr>\n",
       "    <tr>\n",
       "      <th>14</th>\n",
       "      <td>SPG/SPM Demo Masak - Jakarta</td>\n",
       "      <td>PT Mitra Karsa Utama</td>\n",
       "      <td>Sawah Besar, Jakarta Pusat, DKI Jakarta, Indon...</td>\n",
       "    </tr>\n",
       "    <tr>\n",
       "      <th>15</th>\n",
       "      <td>Freelancer Trade Finance Professional</td>\n",
       "      <td>Trdfin Support Service Pvt Ltd</td>\n",
       "      <td>Menteng, Jakarta Pusat, DKI Jakarta, Indonesia</td>\n",
       "    </tr>\n",
       "    <tr>\n",
       "      <th>...</th>\n",
       "      <td>...</td>\n",
       "      <td>...</td>\n",
       "      <td>...</td>\n",
       "    </tr>\n",
       "    <tr>\n",
       "      <th>467</th>\n",
       "      <td>Customer Representative</td>\n",
       "      <td>Eudora International Group</td>\n",
       "      <td>Kemayoran, Jakarta Pusat, DKI Jakarta, Indonesia</td>\n",
       "    </tr>\n",
       "    <tr>\n",
       "      <th>469</th>\n",
       "      <td>Customer Service Representative / CSO</td>\n",
       "      <td>Eudora International Group</td>\n",
       "      <td>Grogol Petamburan, Jakarta Barat, DKI Jakarta,...</td>\n",
       "    </tr>\n",
       "    <tr>\n",
       "      <th>470</th>\n",
       "      <td>Future Leader Program</td>\n",
       "      <td>SG Batavia</td>\n",
       "      <td>Jakarta Pusat, DKI Jakarta, Indonesia</td>\n",
       "    </tr>\n",
       "    <tr>\n",
       "      <th>471</th>\n",
       "      <td>Staff Marketing Export</td>\n",
       "      <td>CV. Berkat Bintang Sejati</td>\n",
       "      <td>Pesanggrahan, Jakarta Selatan, DKI Jakarta, In...</td>\n",
       "    </tr>\n",
       "    <tr>\n",
       "      <th>476</th>\n",
       "      <td>Marketing Associate</td>\n",
       "      <td>PT VPlus Platinum 8 Indonesia</td>\n",
       "      <td>Setiabudi, Jakarta Selatan, DKI Jakarta, Indon...</td>\n",
       "    </tr>\n",
       "  </tbody>\n",
       "</table>\n",
       "<p>176 rows × 3 columns</p>\n",
       "</div>"
      ],
      "text/plain": [
       "                                 Job Title                         Company  \\\n",
       "8                          Marketing Staff   PT VPlus Platinum 8 Indonesia   \n",
       "9                          Marketing Staff   PT VPlus Platinum 8 Indonesia   \n",
       "11                      Finance Accounting        Pt Qinfa Mining Industri   \n",
       "14            SPG/SPM Demo Masak - Jakarta            PT Mitra Karsa Utama   \n",
       "15   Freelancer Trade Finance Professional  Trdfin Support Service Pvt Ltd   \n",
       "..                                     ...                             ...   \n",
       "467                Customer Representative      Eudora International Group   \n",
       "469  Customer Service Representative / CSO      Eudora International Group   \n",
       "470                  Future Leader Program                      SG Batavia   \n",
       "471                 Staff Marketing Export       CV. Berkat Bintang Sejati   \n",
       "476                    Marketing Associate   PT VPlus Platinum 8 Indonesia   \n",
       "\n",
       "                                              Location  \n",
       "8    Setiabudi, Jakarta Selatan, DKI Jakarta, Indon...  \n",
       "9    Setiabudi, Jakarta Selatan, DKI Jakarta, Indon...  \n",
       "11    Kemayoran, Jakarta Pusat, DKI Jakarta, Indonesia  \n",
       "14   Sawah Besar, Jakarta Pusat, DKI Jakarta, Indon...  \n",
       "15      Menteng, Jakarta Pusat, DKI Jakarta, Indonesia  \n",
       "..                                                 ...  \n",
       "467   Kemayoran, Jakarta Pusat, DKI Jakarta, Indonesia  \n",
       "469  Grogol Petamburan, Jakarta Barat, DKI Jakarta,...  \n",
       "470              Jakarta Pusat, DKI Jakarta, Indonesia  \n",
       "471  Pesanggrahan, Jakarta Selatan, DKI Jakarta, In...  \n",
       "476  Setiabudi, Jakarta Selatan, DKI Jakarta, Indon...  \n",
       "\n",
       "[176 rows x 3 columns]"
      ]
     },
     "execution_count": 22,
     "metadata": {},
     "output_type": "execute_result"
    }
   ],
   "source": [
    "filtered_jobs"
   ]
  },
  {
   "cell_type": "code",
   "execution_count": 13,
   "metadata": {},
   "outputs": [
    {
     "data": {
      "text/plain": [
       "[]"
      ]
     },
     "execution_count": 13,
     "metadata": {},
     "output_type": "execute_result"
    }
   ],
   "source": [
    "filtered_jobs"
   ]
  }
 ],
 "metadata": {
  "kernelspec": {
   "display_name": "base",
   "language": "python",
   "name": "python3"
  },
  "language_info": {
   "codemirror_mode": {
    "name": "ipython",
    "version": 3
   },
   "file_extension": ".py",
   "mimetype": "text/x-python",
   "name": "python",
   "nbconvert_exporter": "python",
   "pygments_lexer": "ipython3",
   "version": "3.10.9"
  },
  "orig_nbformat": 4
 },
 "nbformat": 4,
 "nbformat_minor": 2
}
