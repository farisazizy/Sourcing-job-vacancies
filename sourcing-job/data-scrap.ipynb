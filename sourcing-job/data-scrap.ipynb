{
 "cells": [
  {
   "cell_type": "code",
   "execution_count": 1,
   "metadata": {},
   "outputs": [],
   "source": [
    "import requests\n",
    "from bs4 import BeautifulSoup"
   ]
  },
  {
   "cell_type": "code",
   "execution_count": 19,
   "metadata": {},
   "outputs": [],
   "source": [
    "num_data = 500\n",
    "page_number = 1\n",
    "job_data = []"
   ]
  },
  {
   "cell_type": "code",
   "execution_count": 20,
   "metadata": {},
   "outputs": [
    {
     "name": "stdout",
     "output_type": "stream",
     "text": [
      "1\n",
      "2\n",
      "3\n",
      "4\n",
      "5\n",
      "6\n",
      "7\n",
      "8\n",
      "9\n",
      "10\n",
      "11\n",
      "12\n",
      "13\n",
      "14\n",
      "15\n",
      "16\n",
      "17\n"
     ]
    }
   ],
   "source": [
    "while len(job_data) < num_data:\n",
    "    # Build the URL with the current page number\n",
    "    url = f\"https://glints.com/id/lowongan-kerja?page={page_number}\"\n",
    "    \n",
    "    # Make a GET request to the URL\n",
    "    response = requests.get(url)\n",
    "    soup = BeautifulSoup(response.text, \"html.parser\")\n",
    "    \n",
    "    # Perform your scraping code here for the current page\n",
    "    results = soup.find(id=\"__next\")\n",
    "    job_elements = results.find_all(\"div\", class_=\"JobCardsc__JobcardContainer-sc-hmqj50-0 kWccWU CompactOpportunityCardsc__CompactJobCardWrapper-sc-dkg8my-0 kwAlsu compact_job_card\")\n",
    "    \n",
    "    for job_element in job_elements:\n",
    "        job_title = job_element.find(\"h3\", class_=\"CompactOpportunityCardsc__JobTitle-sc-dkg8my-7 jJvzUD\").text.strip()\n",
    "        company = job_element.find(\"a\", class_=\"CompactOpportunityCardsc__CompanyLink-sc-dkg8my-8 btWyBR\").text.strip()\n",
    "        location = job_element.find(\"span\", class_=\"CompactOpportunityCardsc__HierarchicalLocationSpan-sc-dkg8my-26 gWoWBv\").text.strip()\n",
    "\n",
    "        # Create a dictionary to store the job information\n",
    "        job_info = {\n",
    "            \"Job Title\": job_title,\n",
    "            \"Company\": company,\n",
    "            \"Location\": location\n",
    "        }\n",
    "\n",
    "        # Add the job information to the job_data list\n",
    "        job_data.append(job_info)\n",
    "\n",
    "        # Check if the desired number of records has been reached\n",
    "        if len(job_data) >= num_data:\n",
    "            break\n",
    "\n",
    "    print(page_number)\n",
    "\n",
    "    # Check if there are no more pages to scrape\n",
    "    # if not soup.find(\"a\", class_=\"Pagination__NextLink-sc-16r01zq-2 fLLujR\"):\n",
    "    #     break\n",
    "    \n",
    "    # Increment the page number for the next iteration\n",
    "    page_number += 1\n"
   ]
  },
  {
   "cell_type": "code",
   "execution_count": 21,
   "metadata": {},
   "outputs": [
    {
     "name": "stdout",
     "output_type": "stream",
     "text": [
      "Data saved to jobs.csv\n"
     ]
    }
   ],
   "source": [
    "import csv\n",
    "\n",
    "csv_file_path = 'jobs.csv'\n",
    "\n",
    "# Open the CSV file in write mode\n",
    "with open(csv_file_path, \"w\", newline=\"\") as csvfile:\n",
    "    # Create a CSV writer\n",
    "    writer = csv.DictWriter(csvfile, fieldnames=[\"Job Title\", \"Company\", \"Location\"])\n",
    "\n",
    "    # Write the header row\n",
    "    writer.writeheader()\n",
    "\n",
    "    # Write the job data rows\n",
    "    writer.writerows(job_data)\n",
    "\n",
    "print(\"Data saved to jobs.csv\")"
   ]
  },
  {
   "cell_type": "code",
   "execution_count": null,
   "metadata": {},
   "outputs": [],
   "source": []
  }
 ],
 "metadata": {
  "kernelspec": {
   "display_name": "base",
   "language": "python",
   "name": "python3"
  },
  "language_info": {
   "codemirror_mode": {
    "name": "ipython",
    "version": 3
   },
   "file_extension": ".py",
   "mimetype": "text/x-python",
   "name": "python",
   "nbconvert_exporter": "python",
   "pygments_lexer": "ipython3",
   "version": "3.10.9"
  },
  "orig_nbformat": 4
 },
 "nbformat": 4,
 "nbformat_minor": 2
}
